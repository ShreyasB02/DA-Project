{
 "cells": [
  {
   "cell_type": "markdown",
   "id": "subsequent-casino",
   "metadata": {
    "papermill": {
     "duration": 0.023657,
     "end_time": "2021-06-29T07:28:24.617528",
     "exception": false,
     "start_time": "2021-06-29T07:28:24.593871",
     "status": "completed"
    },
    "tags": []
   },
   "source": [
    "### Importing the required libraries"
   ]
  },
  {
   "cell_type": "code",
   "execution_count": 3,
   "id": "smoking-peter",
   "metadata": {
    "execution": {
     "iopub.execute_input": "2021-06-29T07:28:24.669423Z",
     "iopub.status.busy": "2021-06-29T07:28:24.668229Z",
     "iopub.status.idle": "2021-06-29T07:28:25.958797Z",
     "shell.execute_reply": "2021-06-29T07:28:25.958027Z",
     "shell.execute_reply.started": "2021-06-29T05:20:43.374494Z"
    },
    "papermill": {
     "duration": 1.317509,
     "end_time": "2021-06-29T07:28:25.958985",
     "exception": false,
     "start_time": "2021-06-29T07:28:24.641476",
     "status": "completed"
    },
    "tags": []
   },
   "outputs": [],
   "source": [
    "import numpy as np\n",
    "import pandas as pd\n",
    "import seaborn as sns\n",
    "import matplotlib.pyplot as plt\n",
    "from random import randint\n",
    "%matplotlib inline \n",
    "import warnings\n",
    "warnings.filterwarnings(\"ignore\")\n",
    "\n",
    "from sklearn.model_selection import train_test_split\n",
    "def split(df,label):\n",
    "    X_tr, X_te, Y_tr, Y_te = train_test_split(df, label, test_size=0.25, random_state=42)\n",
    "    return X_tr, X_te, Y_tr, Y_te\n",
    "\n",
    "from sklearn import svm\n",
    "from sklearn.linear_model import LogisticRegression\n",
    "from sklearn.ensemble import RandomForestClassifier, AdaBoostClassifier\n",
    "from sklearn.tree import DecisionTreeClassifier\n",
    "from sklearn.ensemble import GradientBoostingClassifier\n",
    "from sklearn import metrics\n",
    "from sklearn.metrics import accuracy_score\n",
    "\n",
    "classifiers = ['LinearSVM', 'RadialSVM', \n",
    "               'Logistic',  'RandomForest', \n",
    "               'AdaBoost',  'DecisionTree', \n",
    "               'GradientBoosting']\n",
    "\n",
    "models = [svm.SVC(kernel='linear'),\n",
    "          svm.SVC(kernel='rbf'),\n",
    "          LogisticRegression(max_iter = 1000),\n",
    "          RandomForestClassifier(n_estimators=200, random_state=0),\n",
    "          AdaBoostClassifier(random_state = 0),\n",
    "          DecisionTreeClassifier(random_state=0),\n",
    "          GradientBoostingClassifier(random_state=0)]\n",
    "\n",
    "## Calculate the accuracy of the model\n",
    "def acc_score(df,label):\n",
    "    Score = pd.DataFrame({\"Classifier\":classifiers})\n",
    "    j = 0\n",
    "    acc = []\n",
    "    X_train,X_test,Y_train,Y_test = split(df,label)\n",
    "    for i in models:\n",
    "        model = i\n",
    "        model.fit(X_train,Y_train)\n",
    "        predictions = model.predict(X_test)\n",
    "        acc.append(accuracy_score(Y_test,predictions))\n",
    "        j = j+1     \n",
    "    Score[\"Accuracy\"] = acc\n",
    "    Score.sort_values(by=\"Accuracy\", ascending=False,inplace = True)\n",
    "    Score.reset_index(drop=True, inplace=True)\n",
    "    return Score\n",
    "\n",
    "## Plot the accuracy of the model VS Generation\n",
    "def plot(score,x,y,c = \"b\"):\n",
    "    gen = [1,2,3,4,5]\n",
    "    plt.figure(figsize=(6,4))\n",
    "    ax = sns.pointplot(x=gen, y=score,color = c )\n",
    "    ax.set(xlabel=\"Generation\", ylabel=\"Accuracy\")\n",
    "    ax.set(ylim=(x,y))"
   ]
  },
  {
   "cell_type": "code",
   "execution_count": 4,
   "id": "wireless-score",
   "metadata": {
    "execution": {
     "iopub.execute_input": "2021-06-29T07:28:26.021277Z",
     "iopub.status.busy": "2021-06-29T07:28:26.016162Z",
     "iopub.status.idle": "2021-06-29T07:28:26.029466Z",
     "shell.execute_reply": "2021-06-29T07:28:26.028893Z",
     "shell.execute_reply.started": "2021-06-29T05:20:44.763513Z"
    },
    "papermill": {
     "duration": 0.046066,
     "end_time": "2021-06-29T07:28:26.029615",
     "exception": false,
     "start_time": "2021-06-29T07:28:25.983549",
     "status": "completed"
    },
    "tags": []
   },
   "outputs": [],
   "source": [
    "\n",
    "##Generate the initial population\n",
    "def generate_random_population(size,n_feat):\n",
    "    population = []\n",
    "    for i in range(size):\n",
    "        chromosome = np.ones(n_feat,dtype=np.bool)     \n",
    "        chromosome[:int(0.3*n_feat)]=False             \n",
    "        np.random.shuffle(chromosome)\n",
    "        population.append(chromosome)\n",
    "    return population\n",
    "\n",
    "##Calculate the fitness of the population\n",
    "def fitness(population):\n",
    "    scores = []\n",
    "    for chromosome in population:\n",
    "        logmodel.fit(X_train.iloc[:,chromosome],Y_train)         \n",
    "        predictions = logmodel.predict(X_test.iloc[:,chromosome])\n",
    "        scores.append(accuracy_score(Y_test,predictions))\n",
    "    scores, population = np.array(scores), np.array(population) \n",
    "    inds = np.argsort(scores)                                    \n",
    "    return list(scores[inds][::-1]), list(population[inds,:][::-1]) \n"
   ]
  },
  {
   "cell_type": "code",
   "execution_count": 5,
   "id": "2e857c53",
   "metadata": {},
   "outputs": [],
   "source": [
    "## Select the best chromosomes\n",
    "def selection(pop_after_fit,n_parents):\n",
    "    population_nextgen = []\n",
    "    for i in range(n_parents):\n",
    "        population_nextgen.append(pop_after_fit[i])\n",
    "    return population_nextgen\n",
    "\n",
    "## Crossover\n",
    "def crossover(pop_after_sel):\n",
    "    pop_nextgen = pop_after_sel\n",
    "    for i in range(0,len(pop_after_sel),2):\n",
    "        new_par = []\n",
    "        child_1 , child_2 = pop_nextgen[i] , pop_nextgen[i+1]\n",
    "        new_par = np.concatenate((child_1[:len(child_1)//2],child_2[len(child_1)//2:]))\n",
    "        pop_nextgen.append(new_par)\n",
    "    return pop_nextgen\n",
    "\n",
    "## Mutation\n",
    "def mutation(pop_after_cross,mutation_rate,n_feat):   \n",
    "    mutation_range = int(mutation_rate*n_feat)\n",
    "    pop_next_gen = []\n",
    "    for n in range(0,len(pop_after_cross)):\n",
    "        chromo = pop_after_cross[n]\n",
    "        rand_posi = [] \n",
    "        for i in range(0,mutation_range):\n",
    "            pos = randint(0,n_feat-1)\n",
    "            rand_posi.append(pos)\n",
    "        for j in rand_posi:\n",
    "            chromo[j] = not chromo[j]  \n",
    "        pop_next_gen.append(chromo)\n",
    "    return pop_next_gen\n",
    "\n",
    "##Geneartion\n",
    "def generations(df,label,size,n_feat,n_parents,mutation_rate,n_gen,X_train,\n",
    "                                   X_test, Y_train, Y_test):\n",
    "    best_chromo= []\n",
    "    best_score= []\n",
    "    population_nextgen=generate_random_population(size,n_feat)\n",
    "    for i in range(n_gen):\n",
    "        scores, pop_after_fit = fitness(population_nextgen)\n",
    "        print('Best score in generation',i+1,':',scores[:1])  #2\n",
    "        pop_after_sel = selection(pop_after_fit,n_parents)\n",
    "        pop_after_cross = crossover(pop_after_sel)\n",
    "        population_nextgen = mutation(pop_after_cross,mutation_rate,n_feat)\n",
    "        best_chromo.append(pop_after_fit[0])\n",
    "        best_score.append(scores[0])\n",
    "    return best_chromo,best_score"
   ]
  },
  {
   "cell_type": "markdown",
   "id": "literary-observation",
   "metadata": {
    "papermill": {
     "duration": 0.023965,
     "end_time": "2021-06-29T07:28:26.173580",
     "exception": false,
     "start_time": "2021-06-29T07:28:26.149615",
     "status": "completed"
    },
    "tags": []
   },
   "source": [
    "### Breast Cancer Dataset\n"
   ]
  },
  {
   "cell_type": "code",
   "execution_count": 6,
   "id": "completed-courtesy",
   "metadata": {
    "execution": {
     "iopub.execute_input": "2021-06-29T07:28:26.275259Z",
     "iopub.status.busy": "2021-06-29T07:28:26.274565Z",
     "iopub.status.idle": "2021-06-29T07:28:26.308306Z",
     "shell.execute_reply": "2021-06-29T07:28:26.307675Z",
     "shell.execute_reply.started": "2021-06-28T17:02:24.559859Z"
    },
    "papermill": {
     "duration": 0.06343,
     "end_time": "2021-06-29T07:28:26.308455",
     "exception": false,
     "start_time": "2021-06-29T07:28:26.245025",
     "status": "completed"
    },
    "tags": []
   },
   "outputs": [
    {
     "name": "stdout",
     "output_type": "stream",
     "text": [
      "Breast Cancer dataset:\n",
      " 569 Records\n",
      " 30 Features\n"
     ]
    }
   ],
   "source": [
    "data_bc = pd.read_csv(\"data.csv\")\n",
    "label_bc = data_bc[\"diagnosis\"]\n",
    "label_bc = np.where(label_bc == 'M',1,0)\n",
    "data_bc.drop([\"id\",\"diagnosis\",\"Unnamed: 32\"],axis = 1,inplace = True)\n",
    "\n",
    "print(\"Breast Cancer dataset:\\n\",data_bc.shape[0],\"Records\\n\",data_bc.shape[1],\"Features\")"
   ]
  },
  {
   "cell_type": "markdown",
   "id": "sapphire-brief",
   "metadata": {
    "papermill": {
     "duration": 0.025012,
     "end_time": "2021-06-29T07:28:26.450645",
     "exception": false,
     "start_time": "2021-06-29T07:28:26.425633",
     "status": "completed"
    },
    "tags": []
   },
   "source": [
    "### 2. Accuracies Of All Models"
   ]
  },
  {
   "cell_type": "code",
   "execution_count": 7,
   "id": "existing-joyce",
   "metadata": {
    "execution": {
     "iopub.execute_input": "2021-06-29T07:28:26.511494Z",
     "iopub.status.busy": "2021-06-29T07:28:26.510809Z",
     "iopub.status.idle": "2021-06-29T07:28:29.968929Z",
     "shell.execute_reply": "2021-06-29T07:28:29.968069Z",
     "shell.execute_reply.started": "2021-06-28T17:02:25.788904Z"
    },
    "papermill": {
     "duration": 3.492981,
     "end_time": "2021-06-29T07:28:29.969093",
     "exception": false,
     "start_time": "2021-06-29T07:28:26.476112",
     "status": "completed"
    },
    "tags": []
   },
   "outputs": [
    {
     "data": {
      "text/html": [
       "<div>\n",
       "<style scoped>\n",
       "    .dataframe tbody tr th:only-of-type {\n",
       "        vertical-align: middle;\n",
       "    }\n",
       "\n",
       "    .dataframe tbody tr th {\n",
       "        vertical-align: top;\n",
       "    }\n",
       "\n",
       "    .dataframe thead th {\n",
       "        text-align: right;\n",
       "    }\n",
       "</style>\n",
       "<table border=\"1\" class=\"dataframe\">\n",
       "  <thead>\n",
       "    <tr style=\"text-align: right;\">\n",
       "      <th></th>\n",
       "      <th>Classifier</th>\n",
       "      <th>Accuracy</th>\n",
       "    </tr>\n",
       "  </thead>\n",
       "  <tbody>\n",
       "    <tr>\n",
       "      <th>0</th>\n",
       "      <td>RandomForest</td>\n",
       "      <td>0.972028</td>\n",
       "    </tr>\n",
       "    <tr>\n",
       "      <th>1</th>\n",
       "      <td>LinearSVM</td>\n",
       "      <td>0.958042</td>\n",
       "    </tr>\n",
       "    <tr>\n",
       "      <th>2</th>\n",
       "      <td>Logistic</td>\n",
       "      <td>0.958042</td>\n",
       "    </tr>\n",
       "    <tr>\n",
       "      <th>3</th>\n",
       "      <td>GradientBoosting</td>\n",
       "      <td>0.958042</td>\n",
       "    </tr>\n",
       "    <tr>\n",
       "      <th>4</th>\n",
       "      <td>RadialSVM</td>\n",
       "      <td>0.951049</td>\n",
       "    </tr>\n",
       "    <tr>\n",
       "      <th>5</th>\n",
       "      <td>AdaBoost</td>\n",
       "      <td>0.951049</td>\n",
       "    </tr>\n",
       "    <tr>\n",
       "      <th>6</th>\n",
       "      <td>DecisionTree</td>\n",
       "      <td>0.930070</td>\n",
       "    </tr>\n",
       "  </tbody>\n",
       "</table>\n",
       "</div>"
      ],
      "text/plain": [
       "         Classifier  Accuracy\n",
       "0      RandomForest  0.972028\n",
       "1         LinearSVM  0.958042\n",
       "2          Logistic  0.958042\n",
       "3  GradientBoosting  0.958042\n",
       "4         RadialSVM  0.951049\n",
       "5          AdaBoost  0.951049\n",
       "6      DecisionTree  0.930070"
      ]
     },
     "execution_count": 7,
     "metadata": {},
     "output_type": "execute_result"
    }
   ],
   "source": [
    "score1 = acc_score(data_bc,label_bc)\n",
    "score1"
   ]
  },
  {
   "cell_type": "code",
   "execution_count": 8,
   "id": "about-uganda",
   "metadata": {
    "execution": {
     "iopub.execute_input": "2021-06-29T07:28:30.090532Z",
     "iopub.status.busy": "2021-06-29T07:28:30.085408Z",
     "iopub.status.idle": "2021-06-29T07:32:16.678189Z",
     "shell.execute_reply": "2021-06-29T07:32:16.678718Z",
     "shell.execute_reply.started": "2021-06-28T17:51:58.722195Z"
    },
    "papermill": {
     "duration": 226.630752,
     "end_time": "2021-06-29T07:32:16.678912",
     "exception": false,
     "start_time": "2021-06-29T07:28:30.048160",
     "status": "completed"
    },
    "tags": []
   },
   "outputs": [
    {
     "name": "stdout",
     "output_type": "stream",
     "text": [
      "Best score in generation 1 : [0.986013986013986]\n",
      "Best score in generation 2 : [0.993006993006993]\n",
      "Best score in generation 3 : [0.993006993006993]\n",
      "Best score in generation 4 : [0.993006993006993]\n",
      "Best score in generation 5 : [0.993006993006993]\n"
     ]
    }
   ],
   "source": [
    "logmodel = RandomForestClassifier(n_estimators=200, random_state=0)\n",
    "X_train,X_test, Y_train, Y_test = split(data_bc,label_bc)\n",
    "chromo_df_bc,score_bc=generations(data_bc,label_bc,size=80,n_feat=data_bc.shape[1],n_parents=64,mutation_rate=0.20,n_gen=5,\n",
    "                         X_train = X_train,X_test = X_test,Y_train = Y_train,Y_test = Y_test)"
   ]
  },
  {
   "cell_type": "code",
   "execution_count": 9,
   "id": "fdabe9ee",
   "metadata": {},
   "outputs": [],
   "source": [
    "def disp(c,df,g):\n",
    "    feature=df.columns\n",
    "    t=0\n",
    "    l=[]\n",
    "    for i in c:\n",
    "        if i==False:\n",
    "               pass\n",
    "        else:\n",
    "            l.append(feature[t])\n",
    "        t+=1\n",
    "    print(\"The features selected for generation\", g ,\"are\" )\n",
    "    print(l)\n",
    "    print()"
   ]
  },
  {
   "cell_type": "code",
   "execution_count": 10,
   "id": "ab704c55",
   "metadata": {},
   "outputs": [
    {
     "name": "stdout",
     "output_type": "stream",
     "text": [
      "The features selected for generation 1 are\n",
      "['texture_mean', 'perimeter_mean', 'area_mean', 'smoothness_mean', 'concavity_mean', 'perimeter_se', 'area_se', 'smoothness_se', 'concavity_se', 'concave points_se', 'symmetry_se', 'fractal_dimension_se', 'radius_worst', 'perimeter_worst', 'area_worst', 'compactness_worst', 'concavity_worst', 'concave points_worst', 'symmetry_worst']\n",
      "\n",
      "The features selected for generation 2 are\n",
      "['radius_mean', 'smoothness_mean', 'compactness_mean', 'concave points_mean', 'symmetry_mean', 'fractal_dimension_mean', 'radius_se', 'texture_se', 'perimeter_se', 'area_se', 'smoothness_se', 'compactness_se', 'concave points_se', 'fractal_dimension_se', 'radius_worst', 'smoothness_worst', 'fractal_dimension_worst']\n",
      "\n",
      "The features selected for generation 3 are\n",
      "['perimeter_mean', 'area_mean', 'smoothness_mean', 'compactness_mean', 'concavity_mean', 'symmetry_mean', 'radius_se', 'perimeter_se', 'area_se', 'compactness_se', 'concavity_se', 'fractal_dimension_se', 'smoothness_worst', 'symmetry_worst', 'fractal_dimension_worst']\n",
      "\n",
      "The features selected for generation 4 are\n",
      "['texture_mean', 'perimeter_mean', 'area_mean', 'smoothness_mean', 'compactness_mean', 'concavity_mean', 'symmetry_mean', 'radius_se', 'texture_se', 'perimeter_se', 'area_se', 'smoothness_se', 'concave points_se', 'fractal_dimension_se', 'perimeter_worst', 'area_worst', 'smoothness_worst']\n",
      "\n",
      "The features selected for generation 5 are\n",
      "['texture_mean', 'perimeter_mean', 'area_mean', 'compactness_mean', 'concavity_mean', 'symmetry_mean', 'radius_se', 'texture_se', 'perimeter_se', 'area_se', 'smoothness_se', 'concave points_se', 'area_worst', 'smoothness_worst', 'compactness_worst']\n",
      "\n"
     ]
    }
   ],
   "source": [
    "m=len(chromo_df_bc)\n",
    "for k in range(0,m):\n",
    "    disp(chromo_df_bc[k],data_bc,k+1)"
   ]
  },
  {
   "cell_type": "markdown",
   "id": "pleasant-minute",
   "metadata": {
    "papermill": {
     "duration": 0.027125,
     "end_time": "2021-06-29T07:32:16.733453",
     "exception": false,
     "start_time": "2021-06-29T07:32:16.706328",
     "status": "completed"
    },
    "tags": []
   },
   "source": [
    "#### We can see an improvement of 1-2%"
   ]
  },
  {
   "cell_type": "markdown",
   "id": "regulated-animation",
   "metadata": {
    "papermill": {
     "duration": 0.027105,
     "end_time": "2021-06-29T07:32:16.787930",
     "exception": false,
     "start_time": "2021-06-29T07:32:16.760825",
     "status": "completed"
    },
    "tags": []
   },
   "source": [
    "### 3. Visualization"
   ]
  },
  {
   "cell_type": "code",
   "execution_count": 11,
   "id": "based-michigan",
   "metadata": {
    "execution": {
     "iopub.execute_input": "2021-06-29T07:32:16.872150Z",
     "iopub.status.busy": "2021-06-29T07:32:16.871472Z",
     "iopub.status.idle": "2021-06-29T07:32:17.013566Z",
     "shell.execute_reply": "2021-06-29T07:32:17.012866Z",
     "shell.execute_reply.started": "2021-06-28T17:55:12.780695Z"
    },
    "papermill": {
     "duration": 0.198339,
     "end_time": "2021-06-29T07:32:17.013715",
     "exception": false,
     "start_time": "2021-06-29T07:32:16.815376",
     "status": "completed"
    },
    "tags": []
   },
   "outputs": [
    {
     "data": {
      "image/png": "[encoded data removed]",
      "text/plain": [
       "<Figure size 432x288 with 1 Axes>"
      ]
     },
     "metadata": {
      "needs_background": "light"
     },
     "output_type": "display_data"
    }
   ],
   "source": [
    "plot(score_bc,0.9,1.0,c = \"red\")"
   ]
  },
  {
   "cell_type": "markdown",
   "id": "hungry-advancement",
   "metadata": {
    "papermill": {
     "duration": 0.027865,
     "end_time": "2021-06-29T07:32:17.070127",
     "exception": false,
     "start_time": "2021-06-29T07:32:17.042262",
     "status": "completed"
    },
    "tags": []
   },
   "source": [
    "_____\n",
    "# Parkinson's disease\n",
    "_____"
   ]
  },
  {
   "cell_type": "markdown",
   "id": "billion-temperature",
   "metadata": {
    "papermill": {
     "duration": 0.027749,
     "end_time": "2021-06-29T07:32:17.126446",
     "exception": false,
     "start_time": "2021-06-29T07:32:17.098697",
     "status": "completed"
    },
    "tags": []
   },
   "source": [
    "### 1. Looking at dataset"
   ]
  },
  {
   "cell_type": "code",
   "execution_count": 12,
   "id": "verbal-capability",
   "metadata": {
    "execution": {
     "iopub.execute_input": "2021-06-29T07:32:17.188272Z",
     "iopub.status.busy": "2021-06-29T07:32:17.187612Z",
     "iopub.status.idle": "2021-06-29T07:32:17.209979Z",
     "shell.execute_reply": "2021-06-29T07:32:17.209252Z"
    },
    "papermill": {
     "duration": 0.05554,
     "end_time": "2021-06-29T07:32:17.210189",
     "exception": false,
     "start_time": "2021-06-29T07:32:17.154649",
     "status": "completed"
    },
    "tags": []
   },
   "outputs": [
    {
     "name": "stdout",
     "output_type": "stream",
     "text": [
      "Parkinson's disease dataset:\n",
      " 195 Records\n",
      " 22 Features\n"
     ]
    }
   ],
   "source": [
    "data_pd = pd.read_csv(\"Parkinsson disease.csv\")\n",
    "label_pd = data_pd[\"status\"]\n",
    "data_pd.drop([\"status\",\"name\"],axis = 1,inplace = True)\n",
    "\n",
    "print(\"Parkinson's disease dataset:\\n\",data_pd.shape[0],\"Records\\n\",data_pd.shape[1],\"Features\")"
   ]
  },
  {
   "cell_type": "code",
   "execution_count": 13,
   "id": "involved-developer",
   "metadata": {
    "execution": {
     "iopub.execute_input": "2021-06-29T07:32:17.295661Z",
     "iopub.status.busy": "2021-06-29T07:32:17.291188Z",
     "iopub.status.idle": "2021-06-29T07:32:17.300639Z",
     "shell.execute_reply": "2021-06-29T07:32:17.301180Z"
    },
    "papermill": {
     "duration": 0.062068,
     "end_time": "2021-06-29T07:32:17.301357",
     "exception": false,
     "start_time": "2021-06-29T07:32:17.239289",
     "status": "completed"
    },
    "tags": []
   },
   "outputs": [
    {
     "data": {
      "text/html": [
       "<div>\n",
       "<style scoped>\n",
       "    .dataframe tbody tr th:only-of-type {\n",
       "        vertical-align: middle;\n",
       "    }\n",
       "\n",
       "    .dataframe tbody tr th {\n",
       "        vertical-align: top;\n",
       "    }\n",
       "\n",
       "    .dataframe thead th {\n",
       "        text-align: right;\n",
       "    }\n",
       "</style>\n",
       "<table border=\"1\" class=\"dataframe\">\n",
       "  <thead>\n",
       "    <tr style=\"text-align: right;\">\n",
       "      <th></th>\n",
       "      <th>MDVP:Fo(Hz)</th>\n",
       "      <th>MDVP:Fhi(Hz)</th>\n",
       "      <th>MDVP:Flo(Hz)</th>\n",
       "      <th>MDVP:Jitter(%)</th>\n",
       "      <th>MDVP:Jitter(Abs)</th>\n",
       "      <th>MDVP:RAP</th>\n",
       "      <th>MDVP:PPQ</th>\n",
       "      <th>Jitter:DDP</th>\n",
       "      <th>MDVP:Shimmer</th>\n",
       "      <th>MDVP:Shimmer(dB)</th>\n",
       "      <th>...</th>\n",
       "      <th>MDVP:APQ</th>\n",
       "      <th>Shimmer:DDA</th>\n",
       "      <th>NHR</th>\n",
       "      <th>HNR</th>\n",
       "      <th>RPDE</th>\n",
       "      <th>DFA</th>\n",
       "      <th>spread1</th>\n",
       "      <th>spread2</th>\n",
       "      <th>D2</th>\n",
       "      <th>PPE</th>\n",
       "    </tr>\n",
       "  </thead>\n",
       "  <tbody>\n",
       "    <tr>\n",
       "      <th>0</th>\n",
       "      <td>119.992</td>\n",
       "      <td>157.302</td>\n",
       "      <td>74.997</td>\n",
       "      <td>0.00784</td>\n",
       "      <td>0.00007</td>\n",
       "      <td>0.00370</td>\n",
       "      <td>0.00554</td>\n",
       "      <td>0.01109</td>\n",
       "      <td>0.04374</td>\n",
       "      <td>0.426</td>\n",
       "      <td>...</td>\n",
       "      <td>0.02971</td>\n",
       "      <td>0.06545</td>\n",
       "      <td>0.02211</td>\n",
       "      <td>21.033</td>\n",
       "      <td>0.414783</td>\n",
       "      <td>0.815285</td>\n",
       "      <td>-4.813031</td>\n",
       "      <td>0.266482</td>\n",
       "      <td>2.301442</td>\n",
       "      <td>0.284654</td>\n",
       "    </tr>\n",
       "    <tr>\n",
       "      <th>1</th>\n",
       "      <td>122.400</td>\n",
       "      <td>148.650</td>\n",
       "      <td>113.819</td>\n",
       "      <td>0.00968</td>\n",
       "      <td>0.00008</td>\n",
       "      <td>0.00465</td>\n",
       "      <td>0.00696</td>\n",
       "      <td>0.01394</td>\n",
       "      <td>0.06134</td>\n",
       "      <td>0.626</td>\n",
       "      <td>...</td>\n",
       "      <td>0.04368</td>\n",
       "      <td>0.09403</td>\n",
       "      <td>0.01929</td>\n",
       "      <td>19.085</td>\n",
       "      <td>0.458359</td>\n",
       "      <td>0.819521</td>\n",
       "      <td>-4.075192</td>\n",
       "      <td>0.335590</td>\n",
       "      <td>2.486855</td>\n",
       "      <td>0.368674</td>\n",
       "    </tr>\n",
       "    <tr>\n",
       "      <th>2</th>\n",
       "      <td>116.682</td>\n",
       "      <td>131.111</td>\n",
       "      <td>111.555</td>\n",
       "      <td>0.01050</td>\n",
       "      <td>0.00009</td>\n",
       "      <td>0.00544</td>\n",
       "      <td>0.00781</td>\n",
       "      <td>0.01633</td>\n",
       "      <td>0.05233</td>\n",
       "      <td>0.482</td>\n",
       "      <td>...</td>\n",
       "      <td>0.03590</td>\n",
       "      <td>0.08270</td>\n",
       "      <td>0.01309</td>\n",
       "      <td>20.651</td>\n",
       "      <td>0.429895</td>\n",
       "      <td>0.825288</td>\n",
       "      <td>-4.443179</td>\n",
       "      <td>0.311173</td>\n",
       "      <td>2.342259</td>\n",
       "      <td>0.332634</td>\n",
       "    </tr>\n",
       "    <tr>\n",
       "      <th>3</th>\n",
       "      <td>116.676</td>\n",
       "      <td>137.871</td>\n",
       "      <td>111.366</td>\n",
       "      <td>0.00997</td>\n",
       "      <td>0.00009</td>\n",
       "      <td>0.00502</td>\n",
       "      <td>0.00698</td>\n",
       "      <td>0.01505</td>\n",
       "      <td>0.05492</td>\n",
       "      <td>0.517</td>\n",
       "      <td>...</td>\n",
       "      <td>0.03772</td>\n",
       "      <td>0.08771</td>\n",
       "      <td>0.01353</td>\n",
       "      <td>20.644</td>\n",
       "      <td>0.434969</td>\n",
       "      <td>0.819235</td>\n",
       "      <td>-4.117501</td>\n",
       "      <td>0.334147</td>\n",
       "      <td>2.405554</td>\n",
       "      <td>0.368975</td>\n",
       "    </tr>\n",
       "    <tr>\n",
       "      <th>4</th>\n",
       "      <td>116.014</td>\n",
       "      <td>141.781</td>\n",
       "      <td>110.655</td>\n",
       "      <td>0.01284</td>\n",
       "      <td>0.00011</td>\n",
       "      <td>0.00655</td>\n",
       "      <td>0.00908</td>\n",
       "      <td>0.01966</td>\n",
       "      <td>0.06425</td>\n",
       "      <td>0.584</td>\n",
       "      <td>...</td>\n",
       "      <td>0.04465</td>\n",
       "      <td>0.10470</td>\n",
       "      <td>0.01767</td>\n",
       "      <td>19.649</td>\n",
       "      <td>0.417356</td>\n",
       "      <td>0.823484</td>\n",
       "      <td>-3.747787</td>\n",
       "      <td>0.234513</td>\n",
       "      <td>2.332180</td>\n",
       "      <td>0.410335</td>\n",
       "    </tr>\n",
       "  </tbody>\n",
       "</table>\n",
       "<p>5 rows × 22 columns</p>\n",
       "</div>"
      ],
      "text/plain": [
       "   MDVP:Fo(Hz)  MDVP:Fhi(Hz)  MDVP:Flo(Hz)  MDVP:Jitter(%)  MDVP:Jitter(Abs)  \\\n",
       "0      119.992       157.302        74.997         0.00784           0.00007   \n",
       "1      122.400       148.650       113.819         0.00968           0.00008   \n",
       "2      116.682       131.111       111.555         0.01050           0.00009   \n",
       "3      116.676       137.871       111.366         0.00997           0.00009   \n",
       "4      116.014       141.781       110.655         0.01284           0.00011   \n",
       "\n",
       "   MDVP:RAP  MDVP:PPQ  Jitter:DDP  MDVP:Shimmer  MDVP:Shimmer(dB)  ...  \\\n",
       "0   0.00370   0.00554     0.01109       0.04374             0.426  ...   \n",
       "1   0.00465   0.00696     0.01394       0.06134             0.626  ...   \n",
       "2   0.00544   0.00781     0.01633       0.05233             0.482  ...   \n",
       "3   0.00502   0.00698     0.01505       0.05492             0.517  ...   \n",
       "4   0.00655   0.00908     0.01966       0.06425             0.584  ...   \n",
       "\n",
       "   MDVP:APQ  Shimmer:DDA      NHR     HNR      RPDE       DFA   spread1  \\\n",
       "0   0.02971      0.06545  0.02211  21.033  0.414783  0.815285 -4.813031   \n",
       "1   0.04368      0.09403  0.01929  19.085  0.458359  0.819521 -4.075192   \n",
       "2   0.03590      0.08270  0.01309  20.651  0.429895  0.825288 -4.443179   \n",
       "3   0.03772      0.08771  0.01353  20.644  0.434969  0.819235 -4.117501   \n",
       "4   0.04465      0.10470  0.01767  19.649  0.417356  0.823484 -3.747787   \n",
       "\n",
       "    spread2        D2       PPE  \n",
       "0  0.266482  2.301442  0.284654  \n",
       "1  0.335590  2.486855  0.368674  \n",
       "2  0.311173  2.342259  0.332634  \n",
       "3  0.334147  2.405554  0.368975  \n",
       "4  0.234513  2.332180  0.410335  \n",
       "\n",
       "[5 rows x 22 columns]"
      ]
     },
     "metadata": {},
     "output_type": "display_data"
    },
    {
     "name": "stdout",
     "output_type": "stream",
     "text": [
      "All the features in this dataset have continuous values\n"
     ]
    }
   ],
   "source": [
    "display(data_pd.head())\n",
    "print(\"All the features in this dataset have continuous values\")"
   ]
  },
  {
   "cell_type": "markdown",
   "id": "mediterranean-newport",
   "metadata": {
    "papermill": {
     "duration": 0.030676,
     "end_time": "2021-06-29T07:32:17.361684",
     "exception": false,
     "start_time": "2021-06-29T07:32:17.331008",
     "status": "completed"
    },
    "tags": []
   },
   "source": [
    "### 2. Checking Accuracy"
   ]
  },
  {
   "cell_type": "code",
   "execution_count": 14,
   "id": "creative-season",
   "metadata": {
    "execution": {
     "iopub.execute_input": "2021-06-29T07:32:17.432928Z",
     "iopub.status.busy": "2021-06-29T07:32:17.432293Z",
     "iopub.status.idle": "2021-06-29T07:32:18.314711Z",
     "shell.execute_reply": "2021-06-29T07:32:18.314073Z"
    },
    "papermill": {
     "duration": 0.922737,
     "end_time": "2021-06-29T07:32:18.314856",
     "exception": false,
     "start_time": "2021-06-29T07:32:17.392119",
     "status": "completed"
    },
    "tags": []
   },
   "outputs": [
    {
     "data": {
      "text/html": [
       "<div>\n",
       "<style scoped>\n",
       "    .dataframe tbody tr th:only-of-type {\n",
       "        vertical-align: middle;\n",
       "    }\n",
       "\n",
       "    .dataframe tbody tr th {\n",
       "        vertical-align: top;\n",
       "    }\n",
       "\n",
       "    .dataframe thead th {\n",
       "        text-align: right;\n",
       "    }\n",
       "</style>\n",
       "<table border=\"1\" class=\"dataframe\">\n",
       "  <thead>\n",
       "    <tr style=\"text-align: right;\">\n",
       "      <th></th>\n",
       "      <th>Classifier</th>\n",
       "      <th>Accuracy</th>\n",
       "    </tr>\n",
       "  </thead>\n",
       "  <tbody>\n",
       "    <tr>\n",
       "      <th>0</th>\n",
       "      <td>RandomForest</td>\n",
       "      <td>0.918367</td>\n",
       "    </tr>\n",
       "    <tr>\n",
       "      <th>1</th>\n",
       "      <td>Logistic</td>\n",
       "      <td>0.897959</td>\n",
       "    </tr>\n",
       "    <tr>\n",
       "      <th>2</th>\n",
       "      <td>GradientBoosting</td>\n",
       "      <td>0.897959</td>\n",
       "    </tr>\n",
       "    <tr>\n",
       "      <th>3</th>\n",
       "      <td>LinearSVM</td>\n",
       "      <td>0.877551</td>\n",
       "    </tr>\n",
       "    <tr>\n",
       "      <th>4</th>\n",
       "      <td>DecisionTree</td>\n",
       "      <td>0.877551</td>\n",
       "    </tr>\n",
       "    <tr>\n",
       "      <th>5</th>\n",
       "      <td>AdaBoost</td>\n",
       "      <td>0.857143</td>\n",
       "    </tr>\n",
       "    <tr>\n",
       "      <th>6</th>\n",
       "      <td>RadialSVM</td>\n",
       "      <td>0.836735</td>\n",
       "    </tr>\n",
       "  </tbody>\n",
       "</table>\n",
       "</div>"
      ],
      "text/plain": [
       "         Classifier  Accuracy\n",
       "0      RandomForest  0.918367\n",
       "1          Logistic  0.897959\n",
       "2  GradientBoosting  0.897959\n",
       "3         LinearSVM  0.877551\n",
       "4      DecisionTree  0.877551\n",
       "5          AdaBoost  0.857143\n",
       "6         RadialSVM  0.836735"
      ]
     },
     "execution_count": 14,
     "metadata": {},
     "output_type": "execute_result"
    }
   ],
   "source": [
    "score3 = acc_score(data_pd,label_pd)\n",
    "score3"
   ]
  },
  {
   "cell_type": "code",
   "execution_count": 15,
   "id": "worth-arizona",
   "metadata": {
    "execution": {
     "iopub.execute_input": "2021-06-29T07:32:18.389209Z",
     "iopub.status.busy": "2021-06-29T07:32:18.388525Z",
     "iopub.status.idle": "2021-06-29T07:32:20.985988Z",
     "shell.execute_reply": "2021-06-29T07:32:20.986507Z"
    },
    "papermill": {
     "duration": 2.641116,
     "end_time": "2021-06-29T07:32:20.986718",
     "exception": false,
     "start_time": "2021-06-29T07:32:18.345602",
     "status": "completed"
    },
    "tags": []
   },
   "outputs": [
    {
     "name": "stdout",
     "output_type": "stream",
     "text": [
      "Best score in generation 1 : [0.9387755102040817]\n",
      "Best score in generation 2 : [0.9591836734693877]\n",
      "Best score in generation 3 : [0.9591836734693877]\n",
      "Best score in generation 4 : [0.9795918367346939]\n",
      "Best score in generation 5 : [0.9795918367346939]\n"
     ]
    }
   ],
   "source": [
    "logmodel = DecisionTreeClassifier(random_state=0)\n",
    "X_train,X_test, Y_train, Y_test = split(data_pd,label_pd)\n",
    "chromo_df_pd,score_pd=generations(data_pd,label_pd,size=80,n_feat=data_pd.shape[1],n_parents=64,mutation_rate=0.20,n_gen=5,\n",
    "                         X_train = X_train,X_test = X_test,Y_train = Y_train,Y_test = Y_test)\n",
    "\n",
    "\n"
   ]
  },
  {
   "cell_type": "code",
   "execution_count": 16,
   "id": "247be392",
   "metadata": {},
   "outputs": [
    {
     "name": "stdout",
     "output_type": "stream",
     "text": [
      "The features selected for generation 1 are\n",
      "['MDVP:Jitter(%)', 'MDVP:Jitter(Abs)', 'MDVP:RAP', 'Jitter:DDP', 'MDVP:Shimmer', 'MDVP:Shimmer(dB)', 'Shimmer:APQ3', 'MDVP:APQ', 'HNR', 'RPDE', 'DFA', 'spread1', 'D2', 'PPE']\n",
      "\n",
      "The features selected for generation 2 are\n",
      "['MDVP:Fhi(Hz)', 'MDVP:Flo(Hz)', 'MDVP:Jitter(Abs)', 'Jitter:DDP', 'MDVP:Shimmer', 'Shimmer:APQ3', 'Shimmer:DDA', 'HNR', 'RPDE', 'spread2', 'D2', 'PPE']\n",
      "\n",
      "The features selected for generation 3 are\n",
      "['MDVP:Jitter(%)', 'MDVP:Jitter(Abs)', 'MDVP:PPQ', 'Jitter:DDP', 'MDVP:Shimmer', 'MDVP:Shimmer(dB)', 'NHR', 'HNR', 'RPDE', 'DFA', 'spread1', 'spread2', 'D2', 'PPE']\n",
      "\n",
      "The features selected for generation 4 are\n",
      "['MDVP:Fhi(Hz)', 'MDVP:Flo(Hz)', 'MDVP:Jitter(Abs)', 'MDVP:PPQ', 'MDVP:Shimmer', 'MDVP:Shimmer(dB)', 'Shimmer:APQ5', 'MDVP:APQ', 'Shimmer:DDA', 'NHR', 'HNR', 'RPDE', 'DFA', 'spread1', 'spread2', 'D2']\n",
      "\n",
      "The features selected for generation 5 are\n",
      "['MDVP:Fhi(Hz)', 'MDVP:Flo(Hz)', 'MDVP:Jitter(Abs)', 'Jitter:DDP', 'MDVP:Shimmer', 'MDVP:Shimmer(dB)', 'Shimmer:APQ5', 'MDVP:APQ', 'Shimmer:DDA', 'NHR', 'HNR', 'RPDE', 'spread1', 'spread2', 'D2', 'PPE']\n",
      "\n"
     ]
    }
   ],
   "source": [
    "\n",
    "\n",
    "\n",
    "m=len(chromo_df_pd)\n",
    "\n",
    "for k in range(0,m):\n",
    "    disp(chromo_df_pd[k],data_pd,k+1)"
   ]
  },
  {
   "cell_type": "markdown",
   "id": "primary-access",
   "metadata": {
    "papermill": {
     "duration": 0.032258,
     "end_time": "2021-06-29T07:32:21.051221",
     "exception": false,
     "start_time": "2021-06-29T07:32:21.018963",
     "status": "completed"
    },
    "tags": []
   },
   "source": [
    "#### We can see an improvement of 5-7%"
   ]
  },
  {
   "cell_type": "markdown",
   "id": "motivated-patent",
   "metadata": {
    "papermill": {
     "duration": 0.032382,
     "end_time": "2021-06-29T07:32:21.115627",
     "exception": false,
     "start_time": "2021-06-29T07:32:21.083245",
     "status": "completed"
    },
    "tags": []
   },
   "source": [
    "### 3. Visualization"
   ]
  },
  {
   "cell_type": "code",
   "execution_count": 17,
   "id": "selective-learning",
   "metadata": {
    "execution": {
     "iopub.execute_input": "2021-06-29T07:32:21.210454Z",
     "iopub.status.busy": "2021-06-29T07:32:21.187199Z",
     "iopub.status.idle": "2021-06-29T07:32:21.315152Z",
     "shell.execute_reply": "2021-06-29T07:32:21.314522Z"
    },
    "papermill": {
     "duration": 0.167197,
     "end_time": "2021-06-29T07:32:21.315305",
     "exception": false,
     "start_time": "2021-06-29T07:32:21.148108",
     "status": "completed"
    },
    "tags": []
   },
   "outputs": [
    {
     "data": {
      "image/png": "[encoded data removed]",
      "text/plain": [
       "<Figure size 432x288 with 1 Axes>"
      ]
     },
     "metadata": {
      "needs_background": "light"
     },
     "output_type": "display_data"
    }
   ],
   "source": [
    "plot(score_pd,0.9,1.0,c = \"orange\")"
   ]
  }
 ],
 "metadata": {
  "kernelspec": {
   "display_name": "Python 3.9.2 64-bit",
   "language": "python",
   "name": "python3"
  },
  "language_info": {
   "codemirror_mode": {
    "name": "ipython",
    "version": 3
   },
   "file_extension": ".py",
   "mimetype": "text/x-python",
   "name": "python",
   "nbconvert_exporter": "python",
   "pygments_lexer": "ipython3",
   "version": "3.9.2"
  },
  "papermill": {
   "default_parameters": {},
   "duration": 524.810554,
   "end_time": "2021-06-29T07:37:01.230560",
   "environment_variables": {},
   "exception": null,
   "input_path": "__notebook__.ipynb",
   "output_path": "__notebook__.ipynb",
   "parameters": {},
   "start_time": "2021-06-29T07:28:16.420006",
   "version": "2.3.3"
  },
  "vscode": {
   "interpreter": {
    "hash": "397704579725e15f5c7cb49fe5f0341eb7531c82d19f2c29d197e8b64ab5776b"
   }
  }
 },
 "nbformat": 4,
 "nbformat_minor": 5
}
